{
 "cells": [
  {
   "cell_type": "markdown",
   "metadata": {},
   "source": [
    "# To-do 26/10\n",
    "- *Read files*\n",
    "    - Celia: Read and write compressed and uncompressed files.\n",
    "    \n",
    "\n",
    "- *Quality scores*\n",
    "    - Viktor: Recognizing the format - Phred 33 vs 64.\n",
    "    - Viktor: Function for translating ASCII characters in fastq files into numerical scores. Needed for trimming.\n",
    "    \n",
    "    \n",
    "- *Trimming*\n",
    "    - Celia: Remove leading and trailing bases, according to user input (quality < threshold) -- threshold default = 3\n",
    "    - Celia: Sliding window algorithm for further trimming -- window size default = 4, quality threshold default = 15\n",
    "    \n",
    "    \n",
    "- *Read filtering (simultaneously in both forward and reverse files)*\n",
    "    - Remove reads when average quality < threshold -- threshold default = 15\n",
    "    - Eliminate reads when length < threshold -- threshold default = 36bp\n",
    "    \n",
    "\n",
    "- *Statistics (flexible) -- check what trimmomatic output looks like*\n",
    "    - Keep track of trimmed and removed reads.\n",
    "    - Calculate statistics on a fastq/fasta file without trimming such as number of entries, number of bases, length of entries, average length of entries, quality (average, best/worst 10%), etc.\n",
    "    - Same after trimming.\n",
    "    \n",
    "    \n",
    "- *User input through command line -- with argparse library*\n",
    "    - Allow user to specify:\n",
    "        - Input and output files\n",
    "        - Phred encoding type\n",
    "        - Heading and trailing crops\n",
    "        - Sliding window size and quality threshold\n",
    "        - Minimum read length\n",
    "  \n",
    "        "
   ]
  }
 ],
 "metadata": {
  "kernelspec": {
   "display_name": "Python 3",
   "language": "python",
   "name": "python3"
  },
  "language_info": {
   "codemirror_mode": {
    "name": "ipython",
    "version": 3
   },
   "file_extension": ".py",
   "mimetype": "text/x-python",
   "name": "python",
   "nbconvert_exporter": "python",
   "pygments_lexer": "ipython3",
   "version": "3.7.6"
  }
 },
 "nbformat": 4,
 "nbformat_minor": 4
}
